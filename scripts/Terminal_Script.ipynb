{
  "nbformat": 4,
  "nbformat_minor": 0,
  "metadata": {
    "colab": {
      "name": "Terminal Script.ipynb",
      "provenance": [],
      "collapsed_sections": []
    },
    "kernelspec": {
      "name": "python3",
      "display_name": "Python 3"
    },
    "language_info": {
      "name": "python"
    },
    "accelerator": "GPU"
  },
  "cells": [
    {
      "cell_type": "code",
      "metadata": {
        "id": "JADDJCXdHZvb"
      },
      "source": [
        "! nproc\n",
        "! lscpu\n",
        "! nvidia-smi"
      ],
      "execution_count": null,
      "outputs": []
    },
    {
      "cell_type": "code",
      "metadata": {
        "id": "pYRejNs6Hf6v"
      },
      "source": [
        "from google.colab import auth\n",
        "\n",
        "! git clone https://github.com/mohsenfayyaz/edge-probing-datasets.git\n",
        "! git clone https://github.com/mohsenfayyaz/edge-probe.git\n",
        "\n",
        "! pip install datasets\n",
        "! pip install transformers\n",
        "! pip install sentencepiece\n",
        "\n",
        "# bert-base-uncased\n",
        "# xlnet-base-cased\n",
        "# google/electra-base-discriminator\n",
        "# xlm-roberta-base\n",
        "# bert-base-multilingual-uncased\n",
        "\n",
        "# Tasks: [vua_verb, vua_pos, trofi, lcc, lcc_fa, lcc_es, lcc_ru]\n",
        "\n",
        "%env MDL_CODE=/content/edge-probe/scripts/mdl_probing.py\n",
        "%env EDGE_CODE=/content/edge-probe/scripts/edge_probing.py"
      ],
      "execution_count": null,
      "outputs": []
    },
    {
      "cell_type": "markdown",
      "metadata": {
        "id": "OiCd3wNsHvZo"
      },
      "source": [
        "**MOUNT DRIVE**"
      ]
    },
    {
      "cell_type": "code",
      "metadata": {
        "id": "x-0IryanBmAK"
      },
      "source": [
        "%%shell\n",
        "python3 $EDGE_CODE bert-base-uncased trofi 0\n",
        "cp -r edge_probing_results_mohsen \"/content/drive/MyDrive/\"\n",
        "python3 $EDGE_CODE bert-base-uncased trofi 1\n",
        "cp -r edge_probing_results_mohsen \"/content/drive/MyDrive/\"\n",
        "python3 $EDGE_CODE bert-base-uncased trofi 2\n",
        "cp -r edge_probing_results_mohsen \"/content/drive/MyDrive/\"\n",
        "python3 $EDGE_CODE xlnet-base-cased trofi 0\n",
        "cp -r edge_probing_results_mohsen \"/content/drive/MyDrive/\"\n",
        "python3 $EDGE_CODE xlnet-base-cased trofi 1\n",
        "cp -r edge_probing_results_mohsen \"/content/drive/MyDrive/\"\n",
        "python3 $EDGE_CODE xlnet-base-cased trofi 2\n",
        "cp -r edge_probing_results_mohsen \"/content/drive/MyDrive/\""
      ],
      "execution_count": null,
      "outputs": []
    },
    {
      "cell_type": "code",
      "metadata": {
        "id": "DYSqNhC2HvFy"
      },
      "source": [
        "%%shell\n",
        "python3 $MDL_CODE bert-base-uncased trofi 0\n",
        "cp -r mdl \"/content/drive/MyDrive/\"\n",
        "python3 $MDL_CODE xlnet-base-cased trofi 0\n",
        "cp -r mdl \"/content/drive/MyDrive/\""
      ],
      "execution_count": null,
      "outputs": []
    },
    {
      "cell_type": "code",
      "metadata": {
        "id": "1NBQk7FCGNvb"
      },
      "source": [
        ""
      ],
      "execution_count": null,
      "outputs": []
    }
  ]
}